{
 "metadata": {
  "language_info": {
   "codemirror_mode": {
    "name": "ipython",
    "version": 3
   },
   "file_extension": ".py",
   "mimetype": "text/x-python",
   "name": "python",
   "nbconvert_exporter": "python",
   "pygments_lexer": "ipython3",
   "version": "3.9.6"
  },
  "orig_nbformat": 4,
  "kernelspec": {
   "name": "python3",
   "display_name": "Python 3.9.5 64-bit"
  },
  "interpreter": {
   "hash": "aee8b7b246df8f9039afb4144a1f6fd8d2ca17a180786b69acc140d282b71a49"
  }
 },
 "nbformat": 4,
 "nbformat_minor": 2,
 "cells": [
  {
   "cell_type": "code",
   "execution_count": 61,
   "metadata": {},
   "outputs": [
    {
     "output_type": "stream",
     "name": "stdout",
     "text": [
      "Populating the interactive namespace from numpy and matplotlib\n",
      "/usr/local/lib/python3.9/site-packages/IPython/core/magics/pylab.py:159: UserWarning: pylab import has clobbered these variables: ['f']\n",
      "`%matplotlib` prevents importing * from pylab and numpy\n",
      "  warn(\"pylab import has clobbered these variables: %s\"  % clobbered +\n"
     ]
    }
   ],
   "source": [
    "import math\n",
    "%pylab inline"
   ]
  },
  {
   "cell_type": "code",
   "execution_count": 62,
   "metadata": {},
   "outputs": [
    {
     "output_type": "stream",
     "name": "stdout",
     "text": [
      "PI: 3.1415926524079856\n"
     ]
    }
   ],
   "source": [
    "import math\n",
    "epsilon = 1e-6\n",
    "\n",
    "def f(x):\n",
    "    return math.sqrt(abs(1 - x**2))\n",
    "\n",
    "def integral(f, a, b):\n",
    "    area = 0\n",
    "    while a <= b:\n",
    "        area += epsilon * (f(a) + f(a + epsilon)) / 2\n",
    "        a += epsilon\n",
    "    return area\n",
    "\n",
    "\n",
    "PI = 2 * integral(f, -1, 1)\n",
    "print(f\"PI: {PI}\")"
   ]
  },
  {
   "cell_type": "code",
   "execution_count": 63,
   "metadata": {},
   "outputs": [
    {
     "output_type": "stream",
     "name": "stdout",
     "text": [
      "3.141592524698534\n"
     ]
    }
   ],
   "source": [
    "# run previous cell also, f(x) is derived from there\n",
    "def integral(f, a, b):\n",
    "    x = a\n",
    "    area = 0\n",
    "    while x < b:\n",
    "        gap_value = 0.1 / (abs((f(x + 1e-6) - f(x)) / 1e-6) + 1e3)\n",
    "        left =  gap_value * f(x)\n",
    "        x +=  gap_value\n",
    "        area += (left + ( gap_value * f(min(x, b)))) / 2\n",
    "    return area\n",
    "\n",
    "\n",
    "area = 2 * integral(f, -1, 1)\n",
    "print(area)"
   ]
  },
  {
   "cell_type": "code",
   "execution_count": 21,
   "metadata": {},
   "outputs": [
    {
     "output_type": "stream",
     "name": "stdout",
     "text": [
      "Naive Monte Carlo: 0.78362\n"
     ]
    }
   ],
   "source": [
    "import random as rnd\n",
    "import math as m\n",
    "\n",
    "\n",
    "def NaiveMonteCarlo(N):\n",
    "    s, t = 0, 0\n",
    "\n",
    "    for _ in range(N):\n",
    "        if m.sqrt(rnd.random() ** 2 + rnd.random() ** 2) < 1.0:\n",
    "            s += 1\n",
    "        t += 1\n",
    "\n",
    "    ans = s / t\n",
    "    return ans\n",
    "\n",
    "\n",
    "N = 100000\n",
    "print(f\"Naive Monte Carlo: {NaiveMonteCarlo(N)}\")"
   ]
  },
  {
   "cell_type": "code",
   "execution_count": 64,
   "metadata": {},
   "outputs": [],
   "source": [
    "# 4.1\n",
    "def montecarlointegral(f,a,b,num_plot_points):\n",
    "    \n",
    "    integral = 0.0\n",
    "    for i in range(num_plot_points):\n",
    "        x = uniform()*(b-a)\n",
    "        x += a\n",
    "        integral += f(x)\n",
    "    \n",
    "    return integral*(b-a)/num_plot_points"
   ]
  },
  {
   "cell_type": "code",
   "execution_count": 41,
   "metadata": {},
   "outputs": [
    {
     "output_type": "stream",
     "name": "stdout",
     "text": [
      "Area of Circle: 3.171634696519039\n"
     ]
    }
   ],
   "source": [
    "area = montecarlointegral(f, -1, 1, 500)\n",
    "print(\"Area of Circle: \" + str(2*area))"
   ]
  },
  {
   "cell_type": "code",
   "execution_count": 67,
   "metadata": {},
   "outputs": [
    {
     "output_type": "stream",
     "name": "stdout",
     "text": [
      "Unit semi circle: 1.6019110704159756 sq. units\nUnit circle: 3.203822140831951 sq. units\n"
     ]
    }
   ],
   "source": [
    "# here param1 and param2 are are 0 and 1 respectively\n",
    "# not hardcoded. can be used for non unit circles too\n",
    "#4.2\n",
    "\n",
    "#using the gaussian\n",
    "def gaussian(x,param1,param2):\n",
    "    return (1/sqrt(2*pi))*exp((-(param1-x)*(param1-x)/(2*param2)))\n",
    "\n",
    "#without p(x) as const.\n",
    "def MonteCarloIntegration(f, a, b, plot_points,param1,param2):\n",
    "    integral = 0.0\n",
    "    for i in range(plot_points):\n",
    "        #normal distribution\n",
    "        x = normal(0,1) \n",
    "        if (x>b or x<a) :\n",
    "            continue\n",
    "        integral += float(f(x)/gaussian(x,param1,param2))\n",
    "    \n",
    "    return integral/plot_points\n",
    "\n",
    "#output\n",
    "area = MonteCarloIntegration(f,-1,1, 1000,0,1)\n",
    "print (\"Unit semi circle: \", end=\"\")\n",
    "print(str(area) + \" sq. units\")\n",
    "print (\"Unit circle: \", end=\"\")\n",
    "print(str(area*2) + \" sq. units\")"
   ]
  },
  {
   "cell_type": "code",
   "execution_count": null,
   "metadata": {},
   "outputs": [],
   "source": []
  }
 ]
}