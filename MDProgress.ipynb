{
 "cells": [
  {
   "cell_type": "markdown",
   "source": [
    "## Importing required modules"
   ],
   "metadata": {}
  },
  {
   "cell_type": "code",
   "execution_count": 3,
   "source": [
    "%pylab inline\n",
    "import numpy as np\n",
    "import matplotlib.pyplot as plt\n",
    "from numpy import linalg as la\n",
    "import scipy.optimize\n",
    "from scipy.optimize import minimize"
   ],
   "outputs": [
    {
     "output_type": "stream",
     "name": "stdout",
     "text": [
      "Populating the interactive namespace from numpy and matplotlib\n"
     ]
    }
   ],
   "metadata": {}
  },
  {
   "cell_type": "markdown",
   "source": [
    "## Writing code for the functions"
   ],
   "metadata": {}
  },
  {
   "cell_type": "markdown",
   "source": [
    "### Functions used:\n",
    "(All the functions belong in the same class called \"`simulation`\", which will be invoked in the driver code.)\n",
    "- `__init__`\n",
    "- `set_position`\n",
    "- `set_momenta_rest`\n",
    "- `set_mass`\n",
    "- `calc_forces`\n",
    "- `calc_pe_using`\n",
    "- `pdbc`\n",
    "- `plot_configuration`\n",
    "- `minimise_force`\n"
   ],
   "metadata": {}
  },
  {
   "cell_type": "code",
   "execution_count": 25,
   "source": [
    "class simulation: \n",
    "    # class method to run a simulation of identical LJ particles\n",
    "    def __init__(self, number_of_parts=16):\n",
    "      #create arrays of positions, momenta, forces\n",
    "      #size  = (number_of_parts,3)\n",
    "      self.number_of_parts=number_of_parts\n",
    "      #make everything 0 initially\n",
    "      self.mass=zeros([number_of_parts, 1])\n",
    "      #equating epsilon, dimension, and sigma values all to 1\n",
    "      self.dimension=2\n",
    "      self.epsilon=1\n",
    "      self.sigma=1\n",
    "\n",
    "      #populating the following vectors with 0\n",
    "      self.positions=zeros([number_of_parts, self.dimension])\n",
    "      self.momenta=zeros([number_of_parts, self.dimension])\n",
    "      self.forces=zeros([number_of_parts, self.dimension])\n",
    "\n",
    "    \n",
    "\n",
    "    def set_position(self, cubeSide):\n",
    "        '''set the positions of the particles, randmly inside the cube'''\n",
    "        self.positions = random.rand(self.number_of_parts, self.dimension)*cubeSide\n",
    "            \n",
    "    def set_momenta_rest(self):\n",
    "        '''setting the momentun of all particles to zero, i.e at rest'''\n",
    "        self.momenta = zeros([self.number_of_parts, self.dimension])\n",
    "    def set_mass(self,m):\n",
    "        ''' all masses will be made the same, here the value = m'''\n",
    "        for i in range(self.number_of_parts):\n",
    "            self.mass[i] = m   \n",
    "    def calc_forces(self,cubeSide):\n",
    "        '''array positions determine the current positions, wherein we calculate the euler forces\n",
    "        due to LJ interactions amongst them'''\n",
    "        #loop twice with the same condition, range = number of parts\n",
    "        for i in range(self.number_of_parts):\n",
    "            for j in range(self.number_of_parts):\n",
    "                #populate the force array with zeroes\n",
    "                F_ij = zeros(self.dimension)\n",
    "                #call the pbdc function on the r_vector\n",
    "                r_vec = self.pdbc(cubeSide, self.positions[i], self.positions[j])\n",
    "                #r_vec = self.pos_vec[i] - self.pos_vec[j]\n",
    "                r_mag = la.norm(r_vec)  #magnitude of relative position vector b/w particles i, j\n",
    "                if i != j:\n",
    "                    #using the formula for force required\n",
    "                    F_ij = 24*self.epsilon*((2*(self.sigma**12))/(r_mag**14) - ((self.sigma**6)/(r_mag**8)))*r_vec\n",
    "                self.forces[i] += F_ij\n",
    "\n",
    "\n",
    "       \n",
    "\n",
    "    def calc_pe_using(self, positions,cubeSide):\n",
    "        '''calculate the current total Potential energy of the system, helper function'''\n",
    "        #name space is gloabl, so np. is removed \n",
    "        positions = positions.reshape(self.number_of_parts, self.dimension)\n",
    "        self.positions = positions\n",
    "        total_pot = 0\n",
    "        \n",
    "        for i in range(self.number_of_parts):\n",
    "            for j in range(i+1, self.number_of_parts):\n",
    "                #relative vector calculated\n",
    "                r_vec = self.pdbc(cubeSide, self.positions[i], self.positions[j])\n",
    "                #calculating norm of the vector that represents the relative positions of i and j\n",
    "                r = la.norm(r_vec)\n",
    "                #using the formula for the potential required\n",
    "                U_ij = 4*self.epsilon*(((self.sigma/r)**12) - ((self.sigma/r)**6))\n",
    "                total_pot += U_ij\n",
    "\n",
    "        return total_pot\n",
    "                \n",
    "    def pdbc(self, L, r1, r2):\n",
    "        ''' finding the relative vector after applying periodic boundary conditions'''\n",
    "        rel_vec = zeros(self.dimension)\n",
    "        for i in range(self.dimension):\n",
    "            d_i = abs(r1[i] - r2[i])\n",
    "            d_i = d_i - L*round(d_i/L)\n",
    "            r2[i] = r1[i] - d_i\n",
    "            rel_vec[i] = r1[i] - r2[i]\n",
    "        return rel_vec\n",
    "            \n",
    "    def minimise_pe(self,cubeSide):\n",
    "        '''minimizing PE'''\n",
    "        pos_min = minimize(self.calc_pe_using, self.positions.flatten(),args=(cubeSide,))\n",
    "        pe_min = self.calc_pe_using(pos_min.x,cubeSide)\n",
    "        print(pe_min)\n",
    "\n",
    "    def plot_configuration(self):\n",
    "        '''plot current pos of particles'''\n",
    "        plt.figure(figsize=(3, 3))\n",
    "        for i in range(self.number_of_parts):\n",
    "            plt.plot(self.positions[i,0],self.positions[i,1],'.', color='blue')\n",
    "        plt.show()\n",
    "\n",
    "    \n",
    "  "
   ],
   "outputs": [],
   "metadata": {}
  },
  {
   "cell_type": "code",
   "execution_count": null,
   "source": [],
   "outputs": [],
   "metadata": {}
  },
  {
   "cell_type": "markdown",
   "source": [
    "### Testing the above functions\n",
    " *The functions may take quite long to run as they aren't very optimised*"
   ],
   "metadata": {}
  },
  {
   "cell_type": "code",
   "execution_count": 27,
   "source": [
    "#call an instance of the class\n",
    "obj = simulation()\n",
    "\n",
    "obj.set_mass(1)\n",
    "obj.set_position(1)\n",
    "#before minimising PE\n",
    "obj.plot_configuration()\n",
    "\n",
    "obj.calc_forces(1)\n",
    "\n",
    "obj.minimise_pe(1)\n",
    "#after minimising PE\n",
    "obj.plot_configuration()"
   ],
   "outputs": [
    {
     "output_type": "display_data",
     "data": {
      "text/plain": [
       "<Figure size 216x216 with 1 Axes>"
      ],
      "image/png": "[encoded data removed]"
     },
     "metadata": {
      "needs_background": "light"
     }
    },
    {
     "output_type": "stream",
     "name": "stdout",
     "text": [
      "1.0609594476597387e+37\n"
     ]
    },
    {
     "output_type": "display_data",
     "data": {
      "text/plain": [
       "<Figure size 216x216 with 1 Axes>"
      ],
      "image/png": "[encoded data removed]"
     },
     "metadata": {
      "needs_background": "light"
     }
    }
   ],
   "metadata": {}
  },
  {
   "cell_type": "code",
   "execution_count": null,
   "source": [],
   "outputs": [],
   "metadata": {}
  }
 ],
 "metadata": {
  "orig_nbformat": 4,
  "language_info": {
   "name": "python",
   "version": "3.9.6",
   "mimetype": "text/x-python",
   "codemirror_mode": {
    "name": "ipython",
    "version": 3
   },
   "pygments_lexer": "ipython3",
   "nbconvert_exporter": "python",
   "file_extension": ".py"
  },
  "kernelspec": {
   "name": "python3",
   "display_name": "Python 3.9.6 64-bit"
  },
  "interpreter": {
   "hash": "aee8b7b246df8f9039afb4144a1f6fd8d2ca17a180786b69acc140d282b71a49"
  }
 },
 "nbformat": 4,
 "nbformat_minor": 2
}