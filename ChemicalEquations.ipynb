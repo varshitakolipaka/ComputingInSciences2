{
 "cells": [
  {
   "cell_type": "markdown",
   "source": [
    "## **Task-1: Design a input scheme for the user to input a chemical equation that need to be balanced.**"
   ],
   "metadata": {}
  },
  {
   "cell_type": "markdown",
   "source": [
    "### **Importing required modules**"
   ],
   "metadata": {}
  },
  {
   "cell_type": "code",
   "execution_count": 108,
   "source": [
    "import re\n",
    "import numpy.linalg as la\n",
    "%pylab inline\n",
    "from fractions import Fraction"
   ],
   "outputs": [
    {
     "output_type": "stream",
     "name": "stdout",
     "text": [
      "Populating the interactive namespace from numpy and matplotlib\n"
     ]
    }
   ],
   "metadata": {}
  },
  {
   "cell_type": "markdown",
   "source": [
    "### **Input, parsing input**"
   ],
   "metadata": {}
  },
  {
   "cell_type": "code",
   "execution_count": 109,
   "source": [
    "'''taking a string of equation to process and balance in the program'''\n",
    "string=\"H 2 + O 2 = H 2 O\""
   ],
   "outputs": [],
   "metadata": {}
  },
  {
   "cell_type": "code",
   "execution_count": 110,
   "source": [
    "'''using regex to parse the string into a list of atoms'''\n",
    "atomList = set(re.split('[ 0-9+=]+',string))\n",
    "print(atomList)"
   ],
   "outputs": [
    {
     "output_type": "stream",
     "name": "stdout",
     "text": [
      "{'O', 'H'}\n"
     ]
    }
   ],
   "metadata": {}
  },
  {
   "cell_type": "code",
   "execution_count": 111,
   "source": [
    "'''split the string into reactants and products by splitting across the ='''\n",
    "[reactants, products] = (re.split('=',string))"
   ],
   "outputs": [],
   "metadata": {}
  },
  {
   "cell_type": "code",
   "execution_count": 112,
   "source": [
    "'''split the reactant and product modules by splitting across the +'''\n",
    "react=reactants.split(\" + \")\n",
    "prod=products.split(\" + \")"
   ],
   "outputs": [],
   "metadata": {}
  },
  {
   "cell_type": "markdown",
   "source": [
    "## **TASK 1A: Write a function that will take one chemical (reactant or product) and return `chemical_composition_vector`**\n"
   ],
   "metadata": {}
  },
  {
   "cell_type": "code",
   "execution_count": 113,
   "source": [
    "\n",
    "def chemical_composition_vector( input, atomList ):\n",
    "    ''' Returns a vector with the chemical composition of the supplied molecule'''\n",
    "    out = [0]*len(atomList)\n",
    "    c=list((re.split(' ',input)))\n",
    "\n",
    "    # Iterate len(c) times\n",
    "    for i in range(len(c)):\n",
    "        # Check whether the the character is a space or a digit, if yes, continue\n",
    "        if(c[i].isdigit() or c[i]==\" \" ):\n",
    "            continue\n",
    "        # in all the other cases\n",
    "        else:\n",
    "            # initialise the count variable to 0 before the inner loop\n",
    "            j = 0\n",
    "            # iterate through each chacter in the atomlist\n",
    "            for z in atomList:\n",
    "                # if the character in atomlist is the same as the current atom in molecule\n",
    "                if( z == c[i] ):\n",
    "                    # stop iterating\n",
    "                    break\n",
    "                else:\n",
    "                    # if the character is not hte same, continue to iterate and increment count variable\n",
    "                    j += 1\n",
    "            # check if this is the last character in i + 1\n",
    "            if( (i+1)<len(c) ):\n",
    "                #check if the next character is a number\n",
    "                if c[i+1].isdigit() :\n",
    "                    # make output's jth character this number, i.e. coefficient\n",
    "                    out[j] = int(c[i+1])\n",
    "            # if the atom only occurs once, make the coefficient = 1\n",
    "            else:\n",
    "                out[j] = 1\n",
    "    # finally return 'out'\n",
    "    return out"
   ],
   "outputs": [],
   "metadata": {}
  },
  {
   "cell_type": "markdown",
   "source": [],
   "metadata": {}
  },
  {
   "cell_type": "code",
   "execution_count": 114,
   "source": [
    "'''testing the above function'''\n",
    "print(\"Chemical compositions of the reactants and products are:\")\n",
    "# for reactant\n",
    "r1=chemical_composition_vector(\"H 2\",atomList)\n",
    "print(\"r1 =\", r1)\n",
    "r2=chemical_composition_vector(\"O 2\",atomList)\n",
    "print(\"r1 =\", r2)\n",
    "# for product\n",
    "p1=chemical_composition_vector(\"H 2 O\",atomList)\n",
    "p1=[-h for h in p1]\n",
    "print(\"p1 =\", p1)"
   ],
   "outputs": [
    {
     "output_type": "stream",
     "name": "stdout",
     "text": [
      "Chemical compositions of the reactants and products are:\n",
      "r1 = [0, 2]\n",
      "r1 = [2, 0]\n",
      "p1 = [-1, -2]\n"
     ]
    }
   ],
   "metadata": {}
  },
  {
   "cell_type": "markdown",
   "source": [
    "## **Task-2: From the input, get into a form that is suitable for mathematical manipulations**"
   ],
   "metadata": {}
  },
  {
   "cell_type": "code",
   "execution_count": 115,
   "source": [
    "'''appending 0 to all the lists'''\n",
    "r1.append(0)\n",
    "r2.append(0)\n",
    "p1.append(0)\n",
    "#3*3 matrix for r1,r2,p1 \n",
    "A=np.array([r1,r2,p1])\n",
    "print(A)"
   ],
   "outputs": [
    {
     "output_type": "stream",
     "name": "stdout",
     "text": [
      "[[ 0  2  0]\n",
      " [ 2  0  0]\n",
      " [-1 -2  0]]\n"
     ]
    }
   ],
   "metadata": {}
  },
  {
   "cell_type": "code",
   "execution_count": 116,
   "source": [
    "'''transpose the matrix'''\n",
    "A_T = numpy.transpose(A)\n",
    "print(A_T)"
   ],
   "outputs": [
    {
     "output_type": "stream",
     "name": "stdout",
     "text": [
      "[[ 0  2 -1]\n",
      " [ 2  0 -2]\n",
      " [ 0  0  0]]\n"
     ]
    }
   ],
   "metadata": {}
  },
  {
   "cell_type": "code",
   "execution_count": 117,
   "source": [
    "'''compute the eigenvalues and eigenvalue'''\n",
    "a_eig_val,A_eig=la.eig(A_T)\n",
    "print(A_eig)"
   ],
   "outputs": [
    {
     "output_type": "stream",
     "name": "stdout",
     "text": [
      "[[ 0.70710678 -0.70710678  0.66666667]\n",
      " [ 0.70710678  0.70710678  0.33333333]\n",
      " [ 0.          0.          0.66666667]]\n"
     ]
    }
   ],
   "metadata": {}
  },
  {
   "cell_type": "code",
   "execution_count": 118,
   "source": [
    "'''a1,a2,a3 are the coefficients of H2,O2 and H2O'''\n",
    "a1=A_eig[0,2]\n",
    "a2=A_eig[1,2]\n",
    "a3=A_eig[2,2]"
   ],
   "outputs": [],
   "metadata": {}
  },
  {
   "cell_type": "code",
   "execution_count": 119,
   "source": [
    "'''not to be used unless testing, or making the coefficients whole'''\n",
    "a_min=min(a1,a2,a3)\n",
    "# a1=a1/a_min\n",
    "# a2=a2/a_min\n",
    "# a3=a3/a_min\n",
    "'''printing the above obtained coefficients'''\n",
    "print(\"coeff of H2 = \", a1)\n",
    "print(\"coeff of O2 = \", a2)\n",
    "print(\"coeff of H2O = \", a3)"
   ],
   "outputs": [
    {
     "output_type": "stream",
     "name": "stdout",
     "text": [
      "coeff of H2 =  0.6666666666666667\n",
      "coeff of O2 =  0.3333333333333331\n",
      "coeff of H2O =  0.6666666666666666\n"
     ]
    }
   ],
   "metadata": {}
  },
  {
   "cell_type": "markdown",
   "source": [
    "## **Task-3: Using the solution above, output the balanced equation**"
   ],
   "metadata": {}
  },
  {
   "cell_type": "code",
   "execution_count": 120,
   "source": [
    "'''print eqn with coefficient'''\n",
    "print(a1,react[0],'+',a2,react[1],'=',a3,products)"
   ],
   "outputs": [
    {
     "output_type": "stream",
     "name": "stdout",
     "text": [
      "0.6666666666666667 H 2 + 0.3333333333333331 O 2  = 0.6666666666666666  H 2 O\n"
     ]
    }
   ],
   "metadata": {}
  },
  {
   "cell_type": "markdown",
   "source": [
    "## **Task-4: If the above is working, can you wrap the whole program in a single function, which will take the input and give the proper output?**"
   ],
   "metadata": {}
  },
  {
   "cell_type": "code",
   "execution_count": 123,
   "source": [
    "'''PUTTING THE ABOVE IN A GENERALISED NON HARDCODED FUNCTION'''\n",
    "def setAtomList(string):\n",
    "    global atomList\n",
    "    '''using regex to parse the string into a list of atoms'''\n",
    "    atomList = set( re.compile('[A-z]+').findall(string) )\n",
    "    atomList = list(atomList)\n",
    "    atomList = sorted(atomList)\n",
    "\n",
    "def BalanceChemicalEquation(input_string):\n",
    "    '''Balances the input equation with float coefficients'''\n",
    "\n",
    "    #parsing and dividing input\n",
    "    equation = input_string\n",
    "    setAtomList(equation)\n",
    "    '''splits the string across left and right side, so split_eq[0] contains all the reactants, split_eq[1] contains all the products'''\n",
    "    split_eq = list(re.split(' = ', equation))\n",
    "    '''get a list of all the reactants in a list'''\n",
    "    reactants = list(re.split(' \\++ ', split_eq[0]))\n",
    "    '''get a list of all the products in a list'''\n",
    "    products = list(re.split(' \\++ ', split_eq[1]))\n",
    "\n",
    "    #number and length calculation\n",
    "    number_of_mols = len(reactants) + len(products)\n",
    "    no_of_atom_species = len(atomList)\n",
    "    size_of_array = max(number_of_mols, no_of_atom_species)\n",
    "\n",
    "    #populate the resultant_matrix with 0's\n",
    "    resultant_matrix = np.zeros([size_of_array,size_of_array])\n",
    "    #initialise the count variable to 0 before the inner loop\n",
    "    remaining = 0\n",
    "\n",
    "    \n",
    "    #iterating through the number of reactants\n",
    "    for i in range(len(reactants)):\n",
    "        #\n",
    "        res = chemical_composition_vector( reactants[i], atomList )\n",
    "        #double looping through res\n",
    "        for j in range(len(res)):\n",
    "            resultant_matrix[i][j] = res[j]\n",
    "        remaining = i\n",
    "\n",
    "    remaining += 1\n",
    "    #iterating through the number of products\n",
    "    for i in range(len(products)):\n",
    "        res = chemical_composition_vector( products[i], atomList )\n",
    "        for j in range(len(res)):\n",
    "            resultant_matrix[i+remaining][j] = -res[j]\n",
    "    resultant_matrix = np.transpose(resultant_matrix)\n",
    "    #here resultant[0] is the values, [1] = vectors\n",
    "    resultant = la.eig(resultant_matrix)\n",
    "\n",
    "    eigenvalues = resultant[0]\n",
    "\n",
    "    for i in range(len(eigenvalues)):\n",
    "        eigenvalues[i] = np.round(eigenvalues[i],decimals = 3)\n",
    "\n",
    "    eigenvectors = resultant[1]\n",
    "\n",
    "    for i in range(len(eigenvalues)):\n",
    "        if eigenvalues[i] == 0:\n",
    "            dec_coeff = np.transpose(eigenvectors)[i]\n",
    "\n",
    "    minim = min(dec_coeff)\n",
    "    dec_coeff = dec_coeff/minim\n",
    "\n",
    "    for i in range(len(dec_coeff)):\n",
    "        dec_coeff[i] = np.round(dec_coeff[i],decimals = 3)\n",
    "    \n",
    "    print(\"\\nBalanced equation: \")\n",
    "    balanced_eqn=\"\"\n",
    "    if len(reactants) == 1:\n",
    "        balanced_eqn = str(balanced_eqn) + str(dec_coeff[0]) + str(reactants[-1]) + \" = \"\n",
    "        j = 1\n",
    "    else:\n",
    "        for i in range(len(reactants)-1):\n",
    "            balanced_eqn = str(balanced_eqn) + str(dec_coeff[i]) + str(reactants[i]) + \" + \" + str(dec_coeff[i+1]) + str(reactants[-1]) + \" = \"\n",
    "        j = i+2\n",
    "\n",
    "    if len(products) == 1:\n",
    "        balanced_eqn = str(balanced_eqn) + str(dec_coeff[j]) + str(products[-1])\n",
    "    else:\n",
    "        for i in range(len(products)-1):\n",
    "            balanced_eqn = str(balanced_eqn) + str(dec_coeff[i+j]) + str(products[i]) + \" + \" + str(dec_coeff[i+j+1]) + str(products[-1])\n",
    "    print(balanced_eqn)"
   ],
   "outputs": [],
   "metadata": {}
  },
  {
   "cell_type": "markdown",
   "source": [
    "## **Using the above for equations**\n",
    "**NOTE:** The above function has NOT been hardcoded so, it works for more than 2 reactants and 1 product equations."
   ],
   "metadata": {}
  },
  {
   "cell_type": "markdown",
   "source": [],
   "metadata": {}
  },
  {
   "cell_type": "markdown",
   "source": [
    "## **Example 1:**\n",
    "```py\n",
    "H 2 + Cl 2 = H 1 Cl 1\n",
    "```\n"
   ],
   "metadata": {}
  },
  {
   "cell_type": "code",
   "execution_count": 124,
   "source": [
    "eqn = \"H 2 + O 2 = H 2 O\"\n",
    "BalanceChemicalEquation(eqn)"
   ],
   "outputs": [
    {
     "output_type": "stream",
     "name": "stdout",
     "text": [
      "\n",
      "Balanced equation: \n",
      "2.0H 2 + 1.0O 2 = 2.0H 2 O\n"
     ]
    }
   ],
   "metadata": {}
  },
  {
   "cell_type": "code",
   "execution_count": null,
   "source": [],
   "outputs": [],
   "metadata": {}
  },
  {
   "cell_type": "code",
   "execution_count": null,
   "source": [],
   "outputs": [],
   "metadata": {}
  }
 ],
 "metadata": {
  "orig_nbformat": 4,
  "language_info": {
   "name": "python",
   "version": "3.9.6",
   "mimetype": "text/x-python",
   "codemirror_mode": {
    "name": "ipython",
    "version": 3
   },
   "pygments_lexer": "ipython3",
   "nbconvert_exporter": "python",
   "file_extension": ".py"
  },
  "kernelspec": {
   "name": "python3",
   "display_name": "Python 3.9.6 64-bit"
  },
  "interpreter": {
   "hash": "aee8b7b246df8f9039afb4144a1f6fd8d2ca17a180786b69acc140d282b71a49"
  }
 },
 "nbformat": 4,
 "nbformat_minor": 2
}